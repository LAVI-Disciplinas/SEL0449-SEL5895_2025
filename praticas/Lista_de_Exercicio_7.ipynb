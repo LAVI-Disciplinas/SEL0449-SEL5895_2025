{
  "nbformat": 4,
  "nbformat_minor": 0,
  "metadata": {
    "colab": {
      "provenance": []
    },
    "kernelspec": {
      "name": "python3",
      "display_name": "Python 3"
    },
    "language_info": {
      "name": "python"
    }
  },
  "cells": [
    {
      "cell_type": "markdown",
      "source": [
        "# Lista de Exercício 7\n",
        "### Processamento Digital de Imagens (SEL0449/SEL5895)\n",
        "\n",
        "**Instruções:**\n",
        "\n",
        " 1. Esta lista consiste em 6 exercícios.\n",
        " 1. Deve-se colocar comentários nos códigos desenvolvidos.\n",
        " 1. As perguntas devem ser respondidas também como comentários no arquivo.\n",
        " 1. Colocar seu nome e número USP abaixo.\n",
        " 1. Quaisquer problemas na execução das listas, entrar em contato com os monitores.\n",
        " 1. Depois de terminado os exercícios, deve ser gerado um arquivo **extensão .ipynb** para ser enviado ao professor pelo E-DISCIPLINAS da disciplina até a data máxima de entrega.\n",
        " 1. Caso não seja enviado, o aluno ficará sem nota.\n",
        "\n",
        "\n",
        "---\n",
        "\n",
        "\n",
        "\n",
        " <table class=\"tfo-notebook-buttons\" align=\"left\">\n",
        "  <td>\n",
        "    <a target=\"_blank\" href=\"https://colab.research.google.com/github/LAVI-USP/SEL0449-SEL5895_2025/blob/main/praticas/Lista_de_Exercicio_7.ipynb\"><img src=\"https://www.tensorflow.org/images/colab_logo_32px.png\" />Executar no Google Colab</a>\n",
        "  </td>\n",
        "  <td>\n",
        "    <a target=\"_blank\" href=\"https://github.com/LAVI-USP/SEL0449-SEL5895_2025/blob/main/praticas/Lista_de_Exercicio_7.ipynb\"><img src=\"https://www.tensorflow.org/images/GitHub-Mark-32px.png\" />Ver codigo fonte no GitHub</a>\n",
        "  </td>\n",
        "</table>\n"
      ],
      "metadata": {
        "id": "o-JC2QXE9Gz5"
      }
    },
    {
      "cell_type": "markdown",
      "source": [
        "`Nome: `\n",
        "\n",
        "`Número USP: `"
      ],
      "metadata": {
        "id": "P_lq8xyd3q3W"
      }
    },
    {
      "cell_type": "markdown",
      "source": [
        "### Introdução:\n",
        "\n",
        "Vamos importar as bibliotecas que utilizaremos durante essa prática!"
      ],
      "metadata": {
        "id": "CF4rpTot9LY4"
      }
    },
    {
      "cell_type": "code",
      "execution_count": null,
      "metadata": {
        "id": "KvL-qLcA9C-n"
      },
      "outputs": [],
      "source": [
        "import numpy as np\n",
        "import matplotlib.pyplot as plt\n",
        "import cv2 as cv\n",
        "from skimage.restoration import estimate_sigma\n",
        "from scipy.io import loadmat\n",
        "# Ensure required libraries are installed\n",
        "try:\n",
        "    import bm3d\n",
        "except ImportError:\n",
        "    import sys\n",
        "    !{sys.executable} -m pip install bm3d\n",
        "    import bm3d\n",
        "\n",
        "try:\n",
        "    import pywt\n",
        "except ImportError:\n",
        "    !{sys.executable} -m pip install PyWavelets\n",
        "    import pywt"
      ]
    },
    {
      "cell_type": "markdown",
      "source": [
        "#### **Atenção**: os códigos abaixo são para fazer o download das imagens (EXECUTE-OS). Os mesmos não fazem parte dessa prática."
      ],
      "metadata": {
        "id": "ul5qxiYW9P4w"
      }
    },
    {
      "cell_type": "code",
      "source": [
        "import urllib.request\n",
        "try:\n",
        "  urllib.request.urlretrieve(\"https://github.com/LAVI-USP/SEL0449-SEL5895_2025/raw/refs/heads/main/imagens/pratica_07/img_degrau.tif\", \"img_degrau.tif\")\n",
        "except:\n",
        "  print(\"[ERRO] Não foi possível fazer o download das imagens dessa prática. Entre em contato com o monitor\")\n",
        "try:\n",
        "  urllib.request.urlretrieve(\"https://github.com/LAVI-USP/SEL0449-SEL5895_2025/raw/refs/heads/main/imagens/pratica_07/casa_ruidosa.png\", \"casa_ruidosa.png\")\n",
        "except:\n",
        "  print(\"[ERRO] Não foi possível fazer o download das imagens dessa prática. Entre em contato com o monitor\")\n",
        "try:\n",
        "  urllib.request.urlretrieve(\"https://github.com/LAVI-USP/SEL0449-SEL5895_2025/raw/refs/heads/main/imagens/pratica_07/casaOriginal.png\", \"casaOriginal.png\")\n",
        "except:\n",
        "  print(\"[ERRO] Não foi possível fazer o download das imagens dessa prática. Entre em contato com o monitor\")\n",
        "try:\n",
        "  urllib.request.urlretrieve(\"https://github.com/LAVI-USP/SEL0449-SEL5895_2025/raw/refs/heads/main/imagens/pratica_07/cameraman_ruidosa.png\", \"cameraman_ruidosa.png\")\n",
        "except:\n",
        "  print(\"[ERRO] Não foi possível fazer o download das imagens dessa prática. Entre em contato com o monitor\")\n",
        "try:\n",
        "  urllib.request.urlretrieve(\"https://github.com/LAVI-USP/SEL0449-SEL5895_2025/raw/refs/heads/main/imagens/pratica_07/cameraman.png\", \"cameraman.png\")\n",
        "except:\n",
        "  print(\"[ERRO] Não foi possível fazer o download das imagens dessa prática. Entre em contato com o monitor\")\n",
        "try:\n",
        "  urllib.request.urlretrieve(\"https://github.com/LAVI-USP/SEL0449-SEL5895_2025/raw/refs/heads/main/imagens/pratica_07/H.mat\", \"H.mat\")\n",
        "except:\n",
        "  print(\"[ERRO] Não foi possível fazer o download das imagens dessa prática. Entre em contato com o monitor\")\n",
        "try:\n",
        "  urllib.request.urlretrieve(\"https://github.com/LAVI-USP/SEL0449-SEL5895_2025/raw/refs/heads/main/imagens/pratica_07/atleta.tif\", \"atleta.tif\")\n",
        "except:\n",
        "  print(\"[ERRO] Não foi possível fazer o download das imagens dessa prática. Entre em contato com o monitor\")"
      ],
      "metadata": {
        "id": "zucd0Awn9SAI"
      },
      "execution_count": null,
      "outputs": []
    },
    {
      "cell_type": "markdown",
      "source": [
        "### 1) Análise do ruído não dependente do sinal (1.5/10.0)\n",
        "\n",
        "Nesta prática, iremos trabalhar um tipo de degração conhecida como ruído. De início, discutiremos sobre um ruído não dependende do sinal. Um dos exemplos desta categoria é o ruído Gaussiano.\n",
        "\n",
        "<center><img src=\"https://github.com/LAVI-USP/SEL0449-SEL5895_2025/raw/refs/heads/main/imagens/pratica_07/ruidoGaussiano.gif\" style=\"width:836px;height:266px;\" width=\"980\" height=\"300\"></center>\n",
        "\n",
        "<center><caption><b> Figura 1:</b> Imgens degradadas com diferentes níveis de ruído Gaussiano.</b></caption></center>\n",
        "\n",
        "As principais fontes de ruídos gaussianos em imagens digitais estão relacionados ao ruído térmico durante a aquisição. Em processamento de imagens digitais, o ruído gaussiano pode ser reduzido utilizando-se técnicas de filtros espaciais, que suavizam os ruídos contidos na imagem, com a desvantagem de borrá-la.\n",
        "\n",
        "1.1) Para analisar as características dessa degradação, vamos utilizar uma imagem degrau com diferentes níveis de cinza. Siga os passos abaixo:\n",
        "\n",
        "1. Carregue a imagem ` img_degrau.tif`.\n",
        "2. Agora vamos inserir ruído na imagem com desvio padrão = 10. Para isso vamos usar uma função de nome ``` InsertNoiseAWGN``` . Já disponibilizamos o escopo da função e uma descrição das entradas e saídas.\n",
        "3. Mostre, lado a lado, a imagem original, a imagem degradada (ruidosa)  e a imagem contendo somente o ruído Gaussiano (que fora adicionado à imagem original no exercício anterior).\n",
        "\n",
        "   *   Dica:  Fazendo a subtração da imagem ruidosa pela imagem original, o que sobra é somente o ruído que foi adicionado.\n",
        "   \n",
        "4. Calcule a média e variância **sobre cada degrau de cinza** na imagem ruidosa e em seguida plote o gráfico de Média (Eixo X) e Variância (Eixo Y).\n",
        "5. Comente sobre o comportamento da variância em relação à média.\n"
      ],
      "metadata": {
        "id": "eJfA0E-a9xrw"
      }
    },
    {
      "cell_type": "code",
      "source": [
        "def InsertNoiseAWGN(img, stdNoise):\n",
        "  '''\n",
        "  Entrada:\n",
        "    - img: Imagem de entrada (uint8).\n",
        "    - stdNoise: Desvio padrão do ruído.\n",
        "\n",
        "  Saída:\n",
        "    - imgNoisy: Imagem com ruído AWGN .\n",
        "  '''\n",
        "  nRows, nCols = img.shape\n",
        "  noise =  stdNoise * np.random.normal(size=(nRows,nCols)).astype(float)\n",
        "  imgNoisy = img + noise\n",
        "  imgNoisy = imgNoisy.astype('uint8')\n",
        "  return imgNoisy\n",
        "\n",
        "## -- Seu código começa AQUI -- ##\n",
        "\n",
        "## -- Seu código termina AQUI -- ##\n",
        "\n",
        "## Comentários:"
      ],
      "metadata": {
        "id": "WSufr0lQ91B4"
      },
      "execution_count": null,
      "outputs": []
    },
    {
      "cell_type": "markdown",
      "source": [
        "### 2) Filtragem do Ruído Não Dependente do Sinal (1.5/10.0)\n",
        "\n",
        "Agora, vamos aprender como filtrar uma imagem degradada com ruído Gaussiano independente do sinal.\n",
        "\n",
        "1. Carregue e exiba a imagem `casa_ruidosa.png`.\n",
        "\n",
        "Como podemos observar, a imagem carregada já está ruidosa. Portanto, nossa missão é filtrá-la para melhorar sua qualidade. Para isso, utilizaremos a função `bm3d.bm3d`, disponível nas bibliotecas carregadas. Essa função possui alguns parâmetros de entrada:\n",
        "\n",
        "```python\n",
        "ImgFiltrada = (bm3d.bm3d(ImgRuidosa / 255, sigma / 255)) * 255\n",
        "```\n",
        "\n",
        "- **`ImgRuidosa / 255`**:\n",
        "  - Representa a imagem ruidosa que será processada pelo BM3D.\n",
        "  - A normalização dividindo por 255 garante que os valores da imagem estejam entre 0 e 1, um requisito do BM3D.\n",
        "\n",
        "- **`sigma / 255`**:\n",
        "  - `sigma` é o desvio padrão do ruído presente na imagem ruidosa.\n",
        "  - A divisão por 255 é necessária para manter a escala do ruído compatível com a imagem normalizada.\n",
        "\n",
        "- **Multiplicação por 255**:\n",
        "  - Após a filtragem, o BM3D retorna uma imagem com valores normalizados entre 0 e 1.\n",
        "  - Para restaurar a escala original de intensidade dos pixels (0 a 255), multiplicamos o resultado por 255.\n",
        "\n",
        "2. Agora, precisamos definir um valor adequado para o parâmetro `sigma` na função BM3D. Como a imagem foi corrompida por ruído Gaussiano de desvio padrão desconhecido, aplique a filtragem para diferentes valores de sigma:\n",
        "  - 6\n",
        "  - 8\n",
        "  - 10\n",
        "  - 12\n",
        "  - 14\n",
        "  - 16\n",
        "\n",
        "Após a filtragem para esses diferentes valores de sigma, utilizaremos uma métrica para avaliar o quão próxima a imagem filtrada está da original. Uma métrica amplamente utilizada para medir a qualidade da filtragem em processamento de imagens é o **MSE** (*Mean Squared Error*). Essa métrica mede o erro médio ao quadrado entre os pixels das duas imagens (original e filtrada). Para nossa análise, **quanto menor o MSE, melhor a qualidade da filtragem**. O escopo da função MSE, junto com a descrição das entradas e saídas, já foi disponibilizado. O MSE é calculado pela seguinte equação:\n",
        "\n",
        "$$ MSE = média \\left( \\left(Img_{Sem ruído} - Img_{Filtrada} \\right)^{2} \\right) $$\n",
        "\n",
        "3. Como essa métrica necessita de uma referência livre de ruído (*ground truth*), carregue a imagem `casaOriginal.png`.\n",
        "4. Calcule os valores de MSE das imagens filtradas para cada valor de sigma utilizado no item 2 e plote um gráfico onde:\n",
        "   - O eixo X representa os valores de sigma utilizado e;\n",
        "   - O eixo Y representa os valores de MSE para cada imagem filtrada.\n",
        "\n",
        "5. Mostre, lado a lado, as seguintes imagens:\n",
        "   - A imagem original sem ruído.\n",
        "   - A imagem ruidosa.\n",
        "   - A imagem filtrada que apresentou o melhor resultado segundo a métrica MSE.\n",
        "\n",
        "6. Comente os resultados obtidos analisando as imagens mostradas.\n"
      ],
      "metadata": {
        "id": "__AuuxVc-AnQ"
      }
    },
    {
      "cell_type": "code",
      "source": [
        "def ComputeMSE(Img1, Img2):\n",
        "    '''\n",
        "    Entrada:\n",
        "    - Img1: Imagem original.\n",
        "    - Img2: Imagem que se deseja analisar.\n",
        "\n",
        "    Saída:\n",
        "    - Valor de MSE.\n",
        "    '''\n",
        "\n",
        "    MSE = np.mean((Img1 - Img2) ** 2)\n",
        "\n",
        "    return MSE\n",
        "\n",
        "\n",
        "## -- Seu código começa AQUI -- ##\n",
        "\n",
        "## -- Seu código termina AQUI -- ##\n",
        "\n",
        "## Comentários:"
      ],
      "metadata": {
        "id": "CfeWZLqq-GDY"
      },
      "execution_count": null,
      "outputs": []
    },
    {
      "cell_type": "markdown",
      "source": [
        "### 3) Análise do Ruído dependente do sinal (Poisson) (1.5/10.0)\n",
        "\n",
        "Agora vamos trabalhar com um tipo de ruído que possui dependência com sinal: o ruído Poisson.\n",
        "\n",
        "<center><img src=\"https://github.com/LAVI-USP/SEL0449-SEL5895_2025/raw/refs/heads/main/imagens/pratica_07/RuidoPoisson.gif\" style=\"width:836px;height:266px;\" width=\"980\" height=\"300\"></center>\n",
        "\n",
        "<center><caption><b> Figura 1:</b> Imgens degradadas com diferentes níveis de ruído Poisson.</b></caption></center>\n",
        "\n",
        "Esse ruído é comumente encontrado em dispositivos que se valem da contagem de fótons para a aquisição de imagem, como por exemplo exames de raios X (mamografia, tomografia, fluoroscopia e etc). De forma geral, quanto mais fótons contados pelos detectores, maior será o valor de intensidade do pixel. Contudo, devido à variação no número de fótons detectados, o valor de um pixel é influenciado por uma degradação cuja variância é proporcional à intensidade de luz captada por aquele pixel.\n",
        "Para entendermos melhor esse tipo de ruído, siga as instruções abaixo:\n",
        "\n",
        "1. Insira ruído Poisson na ` img_degrau.tif` . Para isso vamos usar uma função de nome ```InsertNoisePoisson```. Já disponibilizamos o escopo da função e uma descrição das entradas e saídas.\n",
        "2. Mostre, lado a lado, a imagem original, a degradada e a máscara de ruído, ou seja, a imagem contendo somente o ruído Poisson.\n",
        "   *   Dica:  Fazendo a subtração da imagem ruidosa pela imagem original, o que sobra é somente o ruído que foi adicionado.\n",
        "3. Calcule a média e variância sobre cada degrau de cinza para a imagem ruidosa. Em seguida plote o gráfico de Média (Eixo X) e Variância (Eixo Y).\n",
        "4. Comente sobre o comportamento da variância em relação à média. Faça um comparativo em relação ao exercício 1.1 ."
      ],
      "metadata": {
        "id": "F0vSbWKfGBDo"
      }
    },
    {
      "cell_type": "code",
      "source": [
        "def InsertNoisePoisson(img):\n",
        "    '''\n",
        "    Entrada:\n",
        "      - img: Imagem de entrada (uint8).\n",
        "    Saída:\n",
        "      - imgNoisy: Imagem com ruído Poisson.\n",
        "    '''\n",
        "\n",
        "    img = img.astype(np.float32)  # Garantir precisão numérica\n",
        "    imgNoisy = np.random.poisson(img)  # Gerar ruído Poisson puro\n",
        "    imgNoisy = np.clip(imgNoisy, 0, 255)\n",
        "    return imgNoisy\n",
        "\n",
        "## -- Seu código começa AQUI -- ##\n",
        "\n",
        "## -- Seu código termina AQUI -- ##\n",
        "\n",
        "## Comentários:"
      ],
      "metadata": {
        "id": "SdMpw3QFGU3e"
      },
      "execution_count": null,
      "outputs": []
    },
    {
      "cell_type": "markdown",
      "source": [
        "### 4) Filtragem do Ruído Dependente do Sinal (Poisson) (1.5/10.0)\n",
        "\n",
        "Utilizando a função ```bm3d.bm3d```, vamos repetir o procedimento realizado na questão 2, agora aplicando a filtragem a uma imagem degradada por ruído Poisson.\n",
        "\n",
        "1. Carregue a imagem degradada por ruído Poisson `cameraman_ruidosa.png`.\n",
        "\n",
        "2. Realize a filtragem da imagem utilizando o BM3D para diferentes valores de sigma:\n",
        "  - 6\n",
        "  - 8\n",
        "  - 10\n",
        "  - 12\n",
        "  - 14\n",
        "  - 16\n",
        "\n",
        "Agora, utilizaremos novamente a métrica clássica para avaliar a qualidade da imagem após a filtragem: o **MSE** (*Mean Squared Error*). Lembre-se: **Quanto menor o valor do MSE, melhor a qualidade da filtragem.**\n",
        "\n",
        "3. Como essa métrica requer uma imagem de referência (*ground truth*), carregue a imagem original livre de ruído `cameraman.png`. Em seguida, calcule os valores de MSE para todos os valores de sigma utilizados no item 2 na filtragem e plote um gráfico onde:\n",
        "   - O eixo X representa os valores de sigma.\n",
        "   - O eixo Y representa os valores de MSE.\n",
        "\n",
        "4. Mostre, lado a lado, as seguintes imagens:\n",
        "   - A imagem original sem ruído.\n",
        "   - A imagem ruidosa.\n",
        "   - A imagem filtrada que apresentou o melhor resultado segundo a métrica MSE.\n",
        "\n",
        "5. Comente os resultados obtidos em relação as imagens mostradas.\n",
        "   *   Dica: analise o desempenho da filtragem nos detalhes finos da imagem, como por exemplo a região da mão do cameraman.\n",
        "\n"
      ],
      "metadata": {
        "id": "-DOGyvupGeCG"
      }
    },
    {
      "cell_type": "code",
      "source": [
        "def ComputeMSE(Img1, Img2):\n",
        "    '''\n",
        "    Entrada:\n",
        "    - Img1: Imagem original.\n",
        "    - Img2: Imagem que se deseja analisar.\n",
        "\n",
        "    Saída:\n",
        "    - Valor de MSE.\n",
        "    '''\n",
        "\n",
        "    MSE = np.mean((Img1 - Img2) ** 2)\n",
        "\n",
        "    return MSE\n",
        "\n",
        "## -- Seu código começa AQUI -- ##\n",
        "\n",
        "## -- Seu código termina AQUI -- ##\n",
        "\n",
        "## Comentários:"
      ],
      "metadata": {
        "id": "ivzuU5AWGjXf"
      },
      "execution_count": null,
      "outputs": []
    },
    {
      "cell_type": "markdown",
      "source": [
        "### 5) Filtragem de Ruído Poisson utilizando Transformada de Anscombe (1.5/10.0)\n",
        "\n",
        "Nesta etapa, apresentaremos uma abordagem de filtragem utilizando uma ferramenta de estabilização de variância muitas vezes aplicada para casos em que o ruído possui dependência do sinal. Para esse caso, utilizaremos a **Transformada de Anscombe**. Siga os passos abaixo:\n",
        "\n",
        "1. Aplique sobre a imagem `cameraman_ruidosa.png` a estabilização da variância por meio da **Transformada de Anscombe**, conforme a fórmula:\n",
        "\n",
        "   $$ fz = 2 \\sqrt{Z + \\frac{3}{8}} $$\n",
        "\n",
        "   onde **fz** é a imagem no domínio de Anscombe e **Z** é a imagem ruidosa que será estabilizada.\n",
        "\n",
        "2. Para verificar se a estabilização da variância foi bem-sucedida, estime a variância da imagem após a aplicação da Transformada de Anscombe. Para isso, utilize a seguinte função da biblioteca `skimage.restoration` já carregada no início da atividade:\n",
        "\n",
        "   ```python\n",
        "   var_est = np.mean(estimate_sigma(noisy_image, channel_axis=None))\n",
        "   ```\n",
        "   \n",
        "   Calcule a variância média da imagem antes (**Z**) e após a Transformada de Anscombe (**fz**). Exiba esses valores e comente sobre o comportamento da variância antes e depois da transformação.\n",
        "\n",
        "3. Após a aplicação da Transformada de Anscombe, o ruído torna-se aproximadamente independente do sinal e com variância igual a 1. Dessa forma, ao utilizarmos o **BM3D**, o parâmetro **sigma** deve ser definido como 1. Filtre a imagem no domínio de Anscombe utilizando os seguintes parâmetros sugeridos:\n",
        "\n",
        "   ```python\n",
        "   Img_filtrada_fz = (bm3d.bm3d(fz/255, 1/255)) * 255\n",
        "   ```\n",
        "\n",
        "4. Como a imagem filtrada está no domínio de Anscombe, é necessário retorná-la ao domínio original. Para isso, aplique a **Transformada Inversa de Anscombe**:\n",
        "\n",
        "   $$ I(D) = \\left( \\frac{D}{2} \\right)^{2} - \\frac{1}{8} $$\n",
        "\n",
        "   onde **I(D)** representa a imagem filtrada no domínio original e **D** é a imagem filtrada no domínio de Anscombe.\n",
        "\n",
        "5. Mostre, lado a lado, as seguintes imagens:\n",
        "   - A imagem original sem ruído.\n",
        "   - A imagem ruidosa.\n",
        "   - A imagem filtrada após a estabilização.\n",
        "\n",
        "6. Calcule o **MSE** da imagem filtrada utilizando a Transformada de Anscombe e exiba o valor obtido. Compare esse **MSE** obtido com o da imagem filtrada com o melhor **sigma** do exercício **4.5**. **A abordagem com a Transformada de Anscombe foi mais eficaz?** Justifique sua resposta.\n",
        "\n",
        "7. Compare visualmente a imagem filtrada obtida neste exercício com a imagem filtrada no exercício **4.5**. Comente sobre as diferenças perceptíveis entre elas.\n",
        "   *   Dica: analise o desempenho da filtragem nos detalhes finos da imagem, como por exemplo a região da mão do cameraman.\n",
        "\n"
      ],
      "metadata": {
        "id": "v8DLLyuVIqzO"
      }
    },
    {
      "cell_type": "code",
      "source": [
        "## -- Seu código começa AQUI -- ##\n",
        "\n",
        "## -- Seu código termina AQUI -- ##\n",
        "\n",
        "## Comentários:"
      ],
      "metadata": {
        "id": "nczbBuKsPf69"
      },
      "execution_count": null,
      "outputs": []
    },
    {
      "cell_type": "markdown",
      "source": [
        "### 6) Restauração de imagem com borramento e movimento (2.5/10.0)\n",
        "\n",
        "<center><img src=\"\n",
        "https://github.com/LAVI-USP/SEL0449-SEL5895_2025/raw/refs/heads/main/imagens/pratica_07/exercicio4.png\" width=\"750\" height=\"430\"></center>\n",
        "\n",
        "<center><caption><b> Figura 3:</b> Modelo de degradação utilizado para a construção de \"atleta_deg.tif\".</b></caption></center>\n",
        "<caption><center> </center></caption>\n",
        "\n",
        "A imagem foi degradada por uma função de espalhamento de ponto e movimento construídos a partir das seguintes equações:\n",
        "\n",
        "$$ 𝐻(𝑢,𝑣)=H_{blur}(u,v).H_{motion}(u,v) $$\n",
        "\n",
        "$$ H_{blur}(u,v)=exp(−𝑘(𝑢^{2}+𝑣^{2})^{5/6}) $$\n",
        "\n",
        "$$ H_{motion}(u,v) = 𝛾 . sinc(𝛼u + 𝛽v).exp(-j \\pi(𝛼u + 𝛽v) ) $$\n",
        "\n",
        "Sendo $𝑘=5.10^{−5}$, $𝛼=−6.10^{−3}$, $𝛽=4.10^{−3}$ e $𝛾=1$. A imagem foi também corrompida por ruído aditivo gaussiano com variância igual a $𝜎^{2}≅6,5$. Diante disso, siga os passos abaixo:\n",
        "\n",
        "1. Carregue a imagem \"atleta.tif\" e em seguida degrade ela com a matriz de degradação \"H\" com a função `InsertDegMotion`. Para carregar \"H\", utilizaremos a função \"loadmat\" disponibilizada na biblioteca \"scipy.io\". Utilize as linhas de código abaixo para realizar esse procedimento:\n",
        "```python\n",
        "DegradBlurMotion = loadmat('H.mat')\n",
        "H = DegradBlurMotion['H']\n",
        "```\n",
        "4. Mostre a imagem degradada e original lado a lado.\n",
        "5. Aplique a transformada de Fourier na imagem degradada. Nesse momento, é importante a utilização do PADDING antes da transformada de Fourier. Para fins de padronização, utilize o padding simétrico de acordo com o código abaixo:\n",
        "```python\n",
        "img_pad = np.pad(img, (256, 256), 'symmetric')\n",
        "imgPaddingF = np.fft.fft2(img_pad)\n",
        "fshift = np.fft.fftshift(imgPaddingF)\n",
        "```\n",
        "6. Restaure a imagem degradada utilizando filtro de Wiener com parâmetro $𝐾=2.10^{-2}$. Abaixo, segue a fórmula do filtro:\n",
        "\n",
        "$$ Img_{Wiener}(u,v) = I(u,v).H_{Wiener}(u,v)$$\n",
        "\n",
        "$$ H_{Wiener}(u,v) =  \\frac{1}{|H(u,v)|}. \\frac{|H(u,v)|^{2}}{(|H(u,v)|^{2} + K)}       $$\n",
        "\n",
        "em que $H(u,v)$ é a função degradação.\n",
        "\n",
        "   *   Dica:  O módulo de um número complexo também pode ser obtido a partir da multiplicação pelo seu complexo conjugado, isto é, dado $z ∈ C$ tem-se:$$|z|^2 = z \\cdot \\overline{z}$$\n",
        "A função ```np.conj``` retorna o conjugado de um número complexo.\n",
        "\n",
        "7. Comente sobre as diferenças observadas após o processo de filtragem.\n",
        "\n",
        "\n"
      ],
      "metadata": {
        "id": "Q1UDUkaGF1Oh"
      }
    },
    {
      "cell_type": "code",
      "source": [
        "def InsertDegMotion(img,H):\n",
        "  '''\n",
        "  Entrada:\n",
        "    - img: Imagem de entrada.\n",
        "\n",
        "  Saída:\n",
        "    - imgNoisy: Imagem degradada.\n",
        "  '''\n",
        "  nRowsOri, nColsOri = img.shape\n",
        "  imgPadd = np.pad(img, (256, 256), 'symmetric')\n",
        "  imgF = np.fft.fft2(imgPadd)\n",
        "  fshift = np.fft.fftshift(imgF)\n",
        "  ImgDregF = fshift*H\n",
        "  f_inverse = np.fft.ifftshift(ImgDregF)\n",
        "  imgDreg = np.fft.ifft2(f_inverse)\n",
        "  imgDreg = np.abs(imgDreg[255:767,255:767])\n",
        "  imgDreg = imgDreg.astype('uint8')\n",
        "  noise =  np.sqrt(6.5)*np.random.normal(size=(nRowsOri,nColsOri)).astype(float)\n",
        "  imgDreg = imgDreg + noise\n",
        "  return imgDreg\n",
        "\n",
        "## -- Seu código começa AQUI -- ##\n",
        "\n",
        "## -- Seu código termina AQUI -- ##\n",
        "\n",
        "## Comentários:"
      ],
      "metadata": {
        "id": "69ExqwIDIgyw"
      },
      "execution_count": null,
      "outputs": []
    }
  ]
}
